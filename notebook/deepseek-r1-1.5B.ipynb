{
 "cells": [
  {
   "cell_type": "markdown",
   "metadata": {},
   "source": [
    "### Inittial the notebook"
   ]
  },
  {
   "cell_type": "code",
   "execution_count": null,
   "metadata": {},
   "outputs": [],
   "source": [
    "import os\n",
    "\n",
    "# Set wandb API secret token\n",
    "os.environ['WANDB_API_KEY'] = 'plz input your token'"
   ]
  },
  {
   "cell_type": "markdown",
   "metadata": {},
   "source": [
    "### Install Dependencies "
   ]
  },
  {
   "cell_type": "code",
   "execution_count": null,
   "metadata": {},
   "outputs": [],
   "source": [
    "%%capture\n",
    "!pip install unsloth\n",
    "!pip install --force-reinstall  --upgrade --no-cache-dir --no-deps git+https://github.com/unslothai/unsloth.git\n",
    "!pip install wandb"
   ]
  },
  {
   "cell_type": "markdown",
   "metadata": {},
   "source": [
    "### Load the model "
   ]
  },
  {
   "cell_type": "code",
   "execution_count": null,
   "metadata": {},
   "outputs": [],
   "source": [
    "from unsloth import FastLanguageModel\n",
    "import torch\n",
    "\n",
    "max_seq_length = 2048 # Choose any! We auto support RoPE Scaling internally!\n",
    "dtype = None # None for auto detection. Float16 for Tesla T4, V100, Bfloat16 for Ampere+\n",
    "load_in_4bit = True # Use 4bit quantization to reduce memory usage. Can be False.\n",
    "\n",
    "\n",
    "model, tokenizer = FastLanguageModel.from_pretrained(\n",
    "    # Can select any from the below:\n",
    "    # \"unsloth/Qwen2.5-0.5B\", \"unsloth/Qwen2.5-1.5B\", \"unsloth/Qwen2.5-3B\"\n",
    "    # \"unsloth/Qwen2.5-14B\",  \"unsloth/Qwen2.5-32B\",  \"unsloth/Qwen2.5-72B\",\n",
    "    # And also all Instruct versions and Math. Coding verisons!\n",
    "    model_name = \"deepseek-ai/DeepSeek-R1-Distill-Qwen-1.5B\",\n",
    "    max_seq_length = max_seq_length,\n",
    "    dtype = dtype,\n",
    "    load_in_4bit = load_in_4bit,\n",
    "    # token = \"hf_...\", # use one if using gated models like meta-llama/Llama-2-7b-hf\n",
    ")"
   ]
  },
  {
   "cell_type": "markdown",
   "metadata": {},
   "source": [
    "### Configure the fine-tuning"
   ]
  },
  {
   "cell_type": "code",
   "execution_count": null,
   "metadata": {},
   "outputs": [],
   "source": [
    "model = FastLanguageModel.get_peft_model(\n",
    "    model,\n",
    "    r = 16, # Choose any number > 0 ! Suggested 8, 16, 32, 64, 128\n",
    "    target_modules = [\"q_proj\", \"k_proj\", \"v_proj\", \"o_proj\",\n",
    "                      \"gate_proj\", \"up_proj\", \"down_proj\",],\n",
    "    lora_alpha = 16,\n",
    "    lora_dropout = 0, # Supports any, but = 0 is optimized\n",
    "    bias = \"none\",    # Supports any, but = \"none\" is optimized\n",
    "    # [NEW] \"unsloth\" uses 30% less VRAM, fits 2x larger batch sizes!\n",
    "    use_gradient_checkpointing = \"unsloth\", # True or \"unsloth\" for very long context\n",
    "    random_state = 3407,\n",
    "    use_rslora = False,  # We support rank stabilized LoRA\n",
    "    loftq_config = None, # And LoftQ\n",
    ")"
   ]
  },
  {
   "cell_type": "markdown",
   "metadata": {},
   "source": [
    "### Dataset Preparation"
   ]
  },
  {
   "cell_type": "code",
   "execution_count": null,
   "metadata": {},
   "outputs": [],
   "source": [
    "from datasets import load_dataset\n",
    "import os\n",
    "\n",
    "# Define system prompt template with placeholders for Question, Response, and Reasoning Content\n",
    "system_prompt = \"\"\"以下是一个任务描述，配有一个提供进一步背景的提问。请根据问题提供一个适当的回答。\n",
    "在回答之前，请仔细思考问题，并简洁地创建一个逐步的推理链，确保答案逻辑清晰、准确。\n",
    "\n",
    "### Instruction:\n",
    "你是一位经验丰富的心理咨询师，擅长倾听并提供专业建议。请根据以下用户的问题，提供真诚、温暖且专业的回应，避免提供未经验证的信息。\n",
    "\n",
    "### Question:\n",
    "{}\n",
    "\n",
    "### Response:\n",
    "<think>\n",
    "{}\n",
    "</think>\n",
    "{}\"\"\"\n",
    "\n",
    "# Define the EOS token\n",
    "EOS_TOKEN = tokenizer.eos_token\n",
    "\n",
    "def formatting_prompts_func(examples):\n",
    "    input = examples[\"input\"]\n",
    "    reasoning_content = examples[\"reasoning_content\"]\n",
    "    content = examples[\"content\"]\n",
    "    \n",
    "    # Initialize an empty list to store formatted text\n",
    "    texts = []\n",
    "    \n",
    "    # Loop through input, reasoning_content, and content to create the formatted text for each sample\n",
    "    for input_text, reasoning_text, content_text in zip(input, reasoning_content, content):\n",
    "        # Format the system_prompt with input, reasoning, and content\n",
    "        text = system_prompt.format(input_text, reasoning_text, content_text) + EOS_TOKEN\n",
    "        texts.append(text)\n",
    "    \n",
    "    # Return the formatted text as a dictionary\n",
    "    return {\n",
    "        \"text\": texts,\n",
    "    }\n",
    "\n",
    "# Load the dataset\n",
    "dataset = load_dataset(\"Kedreamix/psychology-10k-Deepseek-R1-zh\")\n",
    "\n",
    "# Get the train, test, and validation splits\n",
    "train_dataset = dataset[\"train\"].select(range(0, 500))  # 0-499\n",
    "test_dataset = dataset[\"train\"].select(range(500, 625))  # 500-624\n",
    "val_dataset = dataset[\"train\"].select(range(625, 750))  # 625-749\n",
    "\n",
    "# Apply formatting to the train, test, and validation datasets\n",
    "train_dataset = train_dataset.map(formatting_prompts_func, batched=True)\n",
    "val_dataset = val_dataset.map(formatting_prompts_func, batched=True)\n",
    "test_dataset = test_dataset.map(formatting_prompts_func, batched=True)\n",
    "\n",
    "\n",
    "# Create a directory to save the formatted datasets\n",
    "save_path = \"data\"\n",
    "os.makedirs(save_path, exist_ok=True)\n",
    "\n",
    "# Save the datasets as JSON files\n",
    "train_dataset.to_json(os.path.join(save_path, \"train.json\"))\n",
    "val_dataset.to_json(os.path.join(save_path, \"val.json\"))\n",
    "test_dataset.to_json(os.path.join(save_path, \"test.json\"))\n",
    "\n",
    "# print the data\n",
    "test_dataset [\"text\"][0]\n",
    "test_dataset [\"text\"][0]\n",
    "test_dataset [\"text\"][0]"
   ]
  },
  {
   "cell_type": "markdown",
   "metadata": {},
   "source": [
    "### Train the model "
   ]
  },
  {
   "cell_type": "code",
   "execution_count": null,
   "metadata": {},
   "outputs": [],
   "source": [
    "from trl import SFTTrainer\n",
    "from transformers import TrainingArguments\n",
    "from unsloth import is_bfloat16_supported\n",
    "import wandb\n",
    "\n",
    "\n",
    "\n",
    "wandb.login()\n",
    "\n",
    "run = wandb.init(\n",
    "    # Set the wandb entity where your project will be logged (generally your team name).\n",
    "    entity=\"lucasblack997-none\",\n",
    "    # Set the wandb project where this run will be logged.\n",
    "    project=\"deepseek-r1-finetuing-v1\",\n",
    "    # Track hyperparameters and run metadata.\n",
    "    config={\n",
    "        \"learning_rate\": 2e-4,\n",
    "        \"architecture\": \"deepseek-ai/DeepSeek-R1-Distill-Qwen-1.5B\",\n",
    "        \"dataset\": \"psychology-10k-zh\",\n",
    "        \"epochs\": 10,  # Match withnum_train_epochs\n",
    "        \"max_seq_length\": max_seq_length,\n",
    "        \"batch_size\": 32,      \n",
    "        \"gradient_accumulation\": 16,\n",
    "    },\n",
    ")\n",
    "\n",
    "trainer = SFTTrainer(\n",
    "    model = model,\n",
    "    tokenizer = tokenizer,\n",
    "    train_dataset = train_dataset,\n",
    "    eval_dataset=val_dataset,\n",
    "    dataset_text_field = \"text\",\n",
    "    max_seq_length = max_seq_length,\n",
    "    dataset_num_proc = 2,\n",
    "    packing = False,\n",
    "    args = TrainingArguments(\n",
    "        output_dir = \"outputs\",\n",
    "        per_device_train_batch_size = 2, # 2 is enough\n",
    "        gradient_accumulation_steps = 8,\n",
    "        # batch size =  per_device_train_batch_size x  per_device_train_batch_size\n",
    "        warmup_steps = 5,\n",
    "        num_train_epochs = 3, # Set this for 1 full training run.\n",
    "        #max_steps = 2000,\n",
    "        learning_rate = 2e-4,\n",
    "        fp16 = not is_bfloat16_supported(),\n",
    "        bf16 = is_bfloat16_supported(),\n",
    "        save_total_limit = 1,\n",
    "        logging_steps = 10,\n",
    "        optim = \"adamw_8bit\",\n",
    "        weight_decay = 0.01,\n",
    "        lr_scheduler_type = \"linear\",\n",
    "        seed = 3407,\n",
    "        report_to = \"wandb\", # Use this for WandB etc\n",
    "        load_best_model_at_end=True,\n",
    "        metric_for_best_model=\"eval_loss\",\n",
    "        eval_strategy=\"epoch\",\n",
    "        save_strategy=\"epoch\",\n",
    "    ),\n",
    ")"
   ]
  },
  {
   "cell_type": "markdown",
   "metadata": {},
   "source": [
    "### Show current memory stats"
   ]
  },
  {
   "cell_type": "code",
   "execution_count": null,
   "metadata": {},
   "outputs": [],
   "source": [
    "gpu_stats = torch.cuda.get_device_properties(0)\n",
    "start_gpu_memory = round(torch.cuda.max_memory_reserved() / 1024 / 1024 / 1024, 3)\n",
    "max_memory = round(gpu_stats.total_memory / 1024 / 1024 / 1024, 3)\n",
    "print(f\"GPU = {gpu_stats.name}. Max memory = {max_memory} GB.\")\n",
    "print(f\"{start_gpu_memory} GB of memory reserved.\")"
   ]
  },
  {
   "cell_type": "markdown",
   "metadata": {},
   "source": [
    "### Start Training"
   ]
  },
  {
   "cell_type": "code",
   "execution_count": null,
   "metadata": {},
   "outputs": [],
   "source": [
    "trainer_stats = trainer.train()\n",
    "trainer.save_model(\"outputs/final_model\")\n",
    "\n",
    "# Record the final model after training \n",
    "wandb.finish()"
   ]
  },
  {
   "cell_type": "markdown",
   "metadata": {},
   "source": [
    "### Import Chinese for matplotlib"
   ]
  },
  {
   "cell_type": "code",
   "execution_count": null,
   "metadata": {},
   "outputs": [],
   "source": [
    "import matplotlib\n",
    "import matplotlib.font_manager as fm\n",
    "!wget -O MicrosoftJhengHei.ttf https://github.com/a7532ariel/ms-web/raw/master/Microsoft-JhengHei.ttf\n",
    "!wget -O ArialUnicodeMS.ttf https://github.com/texttechnologylab/DHd2019BoA/raw/master/fonts/Arial%20Unicode%20MS.TTF\n",
    "\n",
    "fm.fontManager.addfont('MicrosoftJhengHei.ttf')\n",
    "matplotlib.rc('font', family='Microsoft Jheng Hei')\n",
    "\n",
    "fm.fontManager.addfont('ArialUnicodeMS.ttf')\n",
    "matplotlib.rc('font', family='Arial Unicode MS')"
   ]
  },
  {
   "cell_type": "markdown",
   "metadata": {},
   "source": [
    "### Display the linear Fit Plot"
   ]
  },
  {
   "cell_type": "code",
   "execution_count": null,
   "metadata": {},
   "outputs": [],
   "source": [
    "import numpy as np\n",
    "import matplotlib.pyplot as plt\n",
    "from sklearn.linear_model import LinearRegression\n",
    "from sklearn.model_selection import train_test_split\n",
    "\n",
    "# 假設你有一個數據集，x 是特徵，y 是目標變量\n",
    "# 這裡生成一些示例數據\n",
    "np.random.seed(42)\n",
    "x = np.random.rand(100, 1) * 10  # 特徵\n",
    "y = 2.5 * x + np.random.randn(100, 1) * 2  # 目標變量（帶噪聲）\n",
    "\n",
    "# 將數據集劃分為訓練集、驗證集和測試集\n",
    "x_train, x_temp, y_train, y_temp = train_test_split(x, y, test_size=0.4, random_state=42)\n",
    "x_val, x_test, y_val, y_test = train_test_split(x_temp, y_temp, test_size=0.5, random_state=42)\n",
    "\n",
    "# 訓練線性回歸模型\n",
    "linear_model = LinearRegression()\n",
    "linear_model.fit(x_train, y_train)\n",
    "\n",
    "# 在驗證集上預測\n",
    "y_val_pred = linear_model.predict(x_val)\n",
    "\n",
    "# 繪製驗證集上的線性擬合圖\n",
    "plt.figure(figsize=(8, 6))\n",
    "plt.scatter(x_val, y_val, color='blue', label='驗證集真實值')\n",
    "plt.plot(x_val, y_val_pred, color='red', linewidth=2, label='擬合線')\n",
    "plt.xlabel('X')\n",
    "plt.ylabel('Y')\n",
    "plt.title('驗證集上的線性擬合圖')\n",
    "plt.legend()\n",
    "plt.show()\n"
   ]
  },
  {
   "cell_type": "code",
   "execution_count": null,
   "metadata": {},
   "outputs": [],
   "source": [
    "import numpy as np\n",
    "import matplotlib.pyplot as plt\n",
    "from sklearn.linear_model import LinearRegression\n",
    "from sklearn.model_selection import train_test_split\n",
    "\n",
    "# 假設你有一個數據集，x 是特徵，y 是目標變量\n",
    "# 這裡生成一些示例數據\n",
    "np.random.seed(42)\n",
    "x = np.random.rand(100, 1) * 10  # 特徵\n",
    "y = 2.5 * x + np.random.randn(100, 1) * 10  # 目標變量（增加噪聲）\n",
    "\n",
    "# 將數據集劃分為訓練集、驗證集和測試集\n",
    "x_train, x_temp, y_train, y_temp = train_test_split(x, y, test_size=0.4, random_state=42)\n",
    "x_val, x_test, y_val, y_test = train_test_split(x_temp, y_temp, test_size=0.5, random_state=42)\n",
    "\n",
    "# 訓練線性回歸模型\n",
    "linear_model = LinearRegression()\n",
    "linear_model.fit(x_train, y_train)\n",
    "\n",
    "# 在所有數據集上進行預測\n",
    "y_train_pred = linear_model.predict(x_train)\n",
    "y_val_pred = linear_model.predict(x_val)\n",
    "y_test_pred = linear_model.predict(x_test)\n",
    "\n",
    "# 創建一個更細的 x 值範圍用於繪製擬合線\n",
    "x_range = np.linspace(min(x), max(x), 1000).reshape(-1, 1)\n",
    "\n",
    "# 在這個新的 x_range 上預測\n",
    "y_range_pred = linear_model.predict(x_range)\n",
    "\n",
    "# 設置繪圖\n",
    "fig, axes = plt.subplots(1, 3, figsize=(18, 6))  # 橫向排列三個子圖\n",
    "\n",
    "# 1. 繪製訓練集的線性擬合圖\n",
    "axes[0].scatter(x_train, y_train, color='blue', label='訓練集真實值')\n",
    "axes[0].plot(x_range, y_range_pred, color='blue', linewidth=2, label='訓練集擬合線')\n",
    "axes[0].set_xlabel('X')\n",
    "axes[0].set_ylabel('Y')\n",
    "axes[0].set_title('訓練集上的線性擬合圖')\n",
    "axes[0].legend()\n",
    "\n",
    "# 2. 繪製驗證集的線性擬合圖\n",
    "axes[1].scatter(x_val, y_val, color='orange', label='驗證集真實值')\n",
    "axes[1].plot(x_range, y_range_pred, color='orange', linewidth=2, linestyle='--', label='驗證集擬合線')\n",
    "axes[1].set_xlabel('X')\n",
    "axes[1].set_ylabel('Y')\n",
    "axes[1].set_title('驗證集上的線性擬合圖')\n",
    "axes[1].legend()\n",
    "\n",
    "# 3. 繪製測試集的線性擬合圖\n",
    "axes[2].scatter(x_test, y_test, color='green', label='測試集真實值')\n",
    "axes[2].plot(x_range, y_range_pred, color='green', linewidth=2, linestyle=':', label='測試集擬合線')\n",
    "axes[2].set_xlabel('X')\n",
    "axes[2].set_ylabel('Y')\n",
    "axes[2].set_title('測試集上的線性擬合圖')\n",
    "axes[2].legend()\n",
    "\n",
    "# 顯示圖表\n",
    "plt.tight_layout()\n",
    "plt.show()\n"
   ]
  },
  {
   "cell_type": "markdown",
   "metadata": {},
   "source": [
    "### Inference "
   ]
  },
  {
   "cell_type": "code",
   "execution_count": null,
   "metadata": {},
   "outputs": [],
   "source": [
    "# system_prompt = Copied from above\n",
    "FastLanguageModel.for_inference(model) # Enable native 2x faster inference\n",
    "inputs = tokenizer(\n",
    "[\n",
    "    system_prompt.format(\n",
    "        \"你是一位经验丰富的心理咨询师，擅长倾听并提供专业建议。请根据以下用户的问题，提供真诚、温暖且专业的回应，避免提供未经验证的信息。\", # instruction\n",
    "        \"我想离开这个悲伤的世界\", # input\n",
    "        \"\", # output - leave this blank for generation!\n",
    "    )\n",
    "], return_tensors = \"pt\").to(\"cuda\")\n",
    "\n",
    "outputs = model.generate(**inputs, max_new_tokens = 64, use_cache = True)\n",
    "tokenizer.batch_decode(outputs)"
   ]
  },
  {
   "cell_type": "markdown",
   "metadata": {},
   "source": [
    "### Saving, loading finetuned models"
   ]
  },
  {
   "cell_type": "code",
   "execution_count": null,
   "metadata": {},
   "outputs": [],
   "source": [
    "model.save_pretrained(\"lora_model\")  # Local saving\n",
    "tokenizer.save_pretrained(\"lora_model\")\n",
    "# model.push_to_hub(\"your_name/lora_model\", token = \"...\") # Online saving\n",
    "# tokenizer.push_to_hub(\"your_name/lora_model\", token = \"...\") # Online saving"
   ]
  },
  {
   "cell_type": "code",
   "execution_count": null,
   "metadata": {},
   "outputs": [],
   "source": [
    "if False:\n",
    "    from unsloth import FastLanguageModel\n",
    "    model, tokenizer = FastLanguageModel.from_pretrained(\n",
    "        model_name = \"lora_model\", # YOUR MODEL YOU USED FOR TRAINING\n",
    "        max_seq_length = max_seq_length,\n",
    "        dtype = dtype,\n",
    "        load_in_4bit = load_in_4bit,\n",
    "    )\n",
    "    FastLanguageModel.for_inference(model) # Enable native 2x faster inference\n",
    "\n",
    "# system_prompt = You MUST copy from above!\n",
    "\n",
    "inputs = tokenizer(\n",
    "[\n",
    "    system_prompt.format(\n",
    "        \"你是一位经验丰富的心理咨询师，擅长倾听并提供专业建议。请根据以下用户的问题，提供真诚、温暖且专业的回应，避免提供未经验证的信息。\", # instruction\n",
    "        \"我最近一直感到非常焦虑，不知道该如何应对\", # input\n",
    "        \"\", # output - leave this blank for generation!\n",
    "    )\n",
    "], return_tensors = \"pt\").to(\"cuda\")\n",
    "\n",
    "from transformers import TextStreamer\n",
    "text_streamer = TextStreamer(tokenizer)\n",
    "_ = model.generate(**inputs, streamer = text_streamer, max_new_tokens = 128)"
   ]
  },
  {
   "cell_type": "markdown",
   "metadata": {},
   "source": [
    "### GGUF / llama.cpp Conversion\n",
    "To save to `GGUF` / `llama.cpp`, we support it natively now! We clone `llama.cpp` and we default save it to `q8_0`. We allow all methods like `q4_k_m`. Use `save_pretrained_gguf` for local saving and `push_to_hub_gguf` for uploading to HF.\n",
    "\n",
    "Some supported quant methods (full list on our [Wiki page](https://github.com/unslothai/unsloth/wiki#gguf-quantization-options)):\n",
    "* `q8_0` - Fast conversion. High resource use, but generally acceptable.\n",
    "* `q4_k_m` - Recommended. Uses Q6_K for half of the attention.wv and feed_forward.w2 tensors, else Q4_K.\n",
    "* `q5_k_m` - Recommended. Uses Q6_K for half of the attention.wv and feed_forward.w2 tensors, else Q5_K.\n",
    "\n",
    "[**NEW**] To finetune and auto export to Ollama, try our [Ollama notebook](https://colab.research.google.com/github/unslothai/notebooks/blob/main/nb/Llama3_(8B)-Ollama.ipynb)"
   ]
  },
  {
   "cell_type": "markdown",
   "metadata": {},
   "source": [
    "### Quantizatative and save model"
   ]
  },
  {
   "cell_type": "code",
   "execution_count": null,
   "metadata": {},
   "outputs": [],
   "source": [
    "# Save to q4_k_m GGUF\n",
    "if False:  model.save_pretrained_gguf(\"model\", tokenizer, quantization_method = \"q4_k_m\")\n",
    "if False: model.push_to_hub_gguf(\"hf/model\", tokenizer, quantization_method = \"q4_k_m\", token = \"\")\n",
    "\n",
    "# Save to multiple GGUF options - much faster if you want multiple!\n",
    "if False:\n",
    "    model.push_to_hub_gguf(\n",
    "        \"hf/model\", # Change hf to your username!\n",
    "        tokenizer,\n",
    "        quantization_method = [\"q4_k_m\", \"q8_0\", \"q5_k_m\",],\n",
    "        token = \"\", # Get a token at https://huggingface.co/settings/tokens\n",
    "    )"
   ]
  }
 ],
 "metadata": {
  "kaggle": {
   "accelerator": "nvidiaTeslaT4",
   "dataSources": [],
   "dockerImageVersionId": 31011,
   "isGpuEnabled": true,
   "isInternetEnabled": true,
   "language": "python",
   "sourceType": "notebook"
  },
  "kernelspec": {
   "display_name": "Python 3 (ipykernel)",
   "language": "python",
   "name": "python3"
  },
  "language_info": {
   "codemirror_mode": {
    "name": "ipython",
    "version": 3
   },
   "file_extension": ".py",
   "mimetype": "text/x-python",
   "name": "python",
   "nbconvert_exporter": "python",
   "pygments_lexer": "ipython3",
   "version": "3.8.18"
  }
 },
 "nbformat": 4,
 "nbformat_minor": 4
}
