{
 "cells": [
  {
   "cell_type": "markdown",
   "metadata": {},
   "source": [
    "### Inittial the notebook"
   ]
  },
  {
   "cell_type": "code",
   "execution_count": 1,
   "metadata": {
    "execution": {
     "iopub.execute_input": "2025-04-21T04:15:38.498148Z",
     "iopub.status.busy": "2025-04-21T04:15:38.497930Z",
     "iopub.status.idle": "2025-04-21T04:15:38.505058Z",
     "shell.execute_reply": "2025-04-21T04:15:38.504243Z",
     "shell.execute_reply.started": "2025-04-21T04:15:38.498130Z"
    }
   },
   "outputs": [],
   "source": [
    "import os\n",
    "\n",
    "os.environ['WANDB_API_KEY'] = 'plz input your token'"
   ]
  },
  {
   "cell_type": "markdown",
   "metadata": {},
   "source": [
    "### Install Dependencies "
   ]
  },
  {
   "cell_type": "code",
   "execution_count": 2,
   "metadata": {
    "execution": {
     "iopub.execute_input": "2025-04-21T04:15:38.506550Z",
     "iopub.status.busy": "2025-04-21T04:15:38.506329Z",
     "iopub.status.idle": "2025-04-21T04:19:08.306608Z",
     "shell.execute_reply": "2025-04-21T04:19:08.305667Z",
     "shell.execute_reply.started": "2025-04-21T04:15:38.506528Z"
    }
   },
   "outputs": [],
   "source": [
    "%%capture\n",
    "!pip install unsloth\n",
    "!pip install --force-reinstall  --upgrade --no-cache-dir --no-deps git+https://github.com/unslothai/unsloth.git\n",
    "!pip install wandb"
   ]
  },
  {
   "cell_type": "markdown",
   "metadata": {},
   "source": [
    "### Load the model "
   ]
  },
  {
   "cell_type": "code",
   "execution_count": 3,
   "metadata": {
    "execution": {
     "iopub.execute_input": "2025-04-21T04:19:08.307909Z",
     "iopub.status.busy": "2025-04-21T04:19:08.307661Z",
     "iopub.status.idle": "2025-04-21T04:20:10.141409Z",
     "shell.execute_reply": "2025-04-21T04:20:10.140821Z",
     "shell.execute_reply.started": "2025-04-21T04:19:08.307887Z"
    }
   },
   "outputs": [
    {
     "name": "stdout",
     "output_type": "stream",
     "text": [
      "🦥 Unsloth: Will patch your computer to enable 2x faster free finetuning.\n"
     ]
    },
    {
     "name": "stderr",
     "output_type": "stream",
     "text": [
      "2025-04-21 04:19:30.154665: E external/local_xla/xla/stream_executor/cuda/cuda_fft.cc:477] Unable to register cuFFT factory: Attempting to register factory for plugin cuFFT when one has already been registered\n",
      "WARNING: All log messages before absl::InitializeLog() is called are written to STDERR\n",
      "E0000 00:00:1745209170.720350      31 cuda_dnn.cc:8310] Unable to register cuDNN factory: Attempting to register factory for plugin cuDNN when one has already been registered\n",
      "E0000 00:00:1745209170.828280      31 cuda_blas.cc:1418] Unable to register cuBLAS factory: Attempting to register factory for plugin cuBLAS when one has already been registered\n"
     ]
    },
    {
     "name": "stdout",
     "output_type": "stream",
     "text": [
      "Unsloth: Failed to patch Gemma3ForConditionalGeneration.\n",
      "🦥 Unsloth Zoo will now patch everything to make training faster!\n",
      "==((====))==  Unsloth 2025.3.19: Fast Qwen2 patching. Transformers: 4.51.1.\n",
      "   \\\\   /|    Tesla T4. Num GPUs = 2. Max memory: 14.741 GB. Platform: Linux.\n",
      "O^O/ \\_/ \\    Torch: 2.6.0+cu124. CUDA: 7.5. CUDA Toolkit: 12.4. Triton: 3.2.0\n",
      "\\        /    Bfloat16 = FALSE. FA [Xformers = 0.0.29.post3. FA2 = False]\n",
      " \"-____-\"     Free license: http://github.com/unslothai/unsloth\n",
      "Unsloth: Fast downloading is enabled - ignore downloading bars which are red colored!\n"
     ]
    },
    {
     "data": {
      "application/vnd.jupyter.widget-view+json": {
       "model_id": "9fd5d1e880764e4b862a0a1abf24c502",
       "version_major": 2,
       "version_minor": 0
      },
      "text/plain": [
       "model.safetensors:   0%|          | 0.00/1.81G [00:00<?, ?B/s]"
      ]
     },
     "metadata": {},
     "output_type": "display_data"
    },
    {
     "data": {
      "application/vnd.jupyter.widget-view+json": {
       "model_id": "ff9fb6be55334348b98bb37ddbd56fbf",
       "version_major": 2,
       "version_minor": 0
      },
      "text/plain": [
       "generation_config.json:   0%|          | 0.00/236 [00:00<?, ?B/s]"
      ]
     },
     "metadata": {},
     "output_type": "display_data"
    },
    {
     "data": {
      "application/vnd.jupyter.widget-view+json": {
       "model_id": "7a46ce12e440400db37d2eb9292c63d7",
       "version_major": 2,
       "version_minor": 0
      },
      "text/plain": [
       "tokenizer_config.json:   0%|          | 0.00/6.78k [00:00<?, ?B/s]"
      ]
     },
     "metadata": {},
     "output_type": "display_data"
    },
    {
     "data": {
      "application/vnd.jupyter.widget-view+json": {
       "model_id": "4b2e147f66ac4fa6b8f10c86b06faea4",
       "version_major": 2,
       "version_minor": 0
      },
      "text/plain": [
       "tokenizer.json:   0%|          | 0.00/11.4M [00:00<?, ?B/s]"
      ]
     },
     "metadata": {},
     "output_type": "display_data"
    },
    {
     "data": {
      "application/vnd.jupyter.widget-view+json": {
       "model_id": "a0697bd0ac554df6b44b7ba5252e8411",
       "version_major": 2,
       "version_minor": 0
      },
      "text/plain": [
       "special_tokens_map.json:   0%|          | 0.00/472 [00:00<?, ?B/s]"
      ]
     },
     "metadata": {},
     "output_type": "display_data"
    }
   ],
   "source": [
    "from unsloth import FastLanguageModel\n",
    "import torch\n",
    "\n",
    "max_seq_length = 2048 # Choose any! We auto support RoPE Scaling internally!\n",
    "dtype = None # None for auto detection. Float16 for Tesla T4, V100, Bfloat16 for Ampere+\n",
    "load_in_4bit = True # Use 4bit quantization to reduce memory usage. Can be False.\n",
    "\n",
    "\n",
    "model, tokenizer = FastLanguageModel.from_pretrained(\n",
    "    # Can select any from the below:\n",
    "    # \"unsloth/Qwen2.5-0.5B\", \"unsloth/Qwen2.5-1.5B\", \"unsloth/Qwen2.5-3B\"\n",
    "    # \"unsloth/Qwen2.5-14B\",  \"unsloth/Qwen2.5-32B\",  \"unsloth/Qwen2.5-72B\",\n",
    "    # And also all Instruct versions and Math. Coding verisons!\n",
    "    model_name = \"deepseek-ai/DeepSeek-R1-Distill-Qwen-1.5B\",\n",
    "    max_seq_length = max_seq_length,\n",
    "    dtype = dtype,\n",
    "    load_in_4bit = load_in_4bit,\n",
    "    # token = \"hf_...\", # use one if using gated models like meta-llama/Llama-2-7b-hf\n",
    ")"
   ]
  },
  {
   "cell_type": "markdown",
   "metadata": {},
   "source": [
    "### Configure the fine-tuning"
   ]
  },
  {
   "cell_type": "code",
   "execution_count": 4,
   "metadata": {
    "execution": {
     "iopub.execute_input": "2025-04-21T04:20:10.142352Z",
     "iopub.status.busy": "2025-04-21T04:20:10.142110Z",
     "iopub.status.idle": "2025-04-21T04:20:16.373594Z",
     "shell.execute_reply": "2025-04-21T04:20:16.372890Z",
     "shell.execute_reply.started": "2025-04-21T04:20:10.142324Z"
    }
   },
   "outputs": [
    {
     "name": "stderr",
     "output_type": "stream",
     "text": [
      "Unsloth 2025.3.19 patched 28 layers with 28 QKV layers, 28 O layers and 28 MLP layers.\n"
     ]
    }
   ],
   "source": [
    "model = FastLanguageModel.get_peft_model(\n",
    "    model,\n",
    "    r = 16, # Choose any number > 0 ! Suggested 8, 16, 32, 64, 128\n",
    "    target_modules = [\"q_proj\", \"k_proj\", \"v_proj\", \"o_proj\",\n",
    "                      \"gate_proj\", \"up_proj\", \"down_proj\",],\n",
    "    lora_alpha = 16,\n",
    "    lora_dropout = 0, # Supports any, but = 0 is optimized\n",
    "    bias = \"none\",    # Supports any, but = \"none\" is optimized\n",
    "    # [NEW] \"unsloth\" uses 30% less VRAM, fits 2x larger batch sizes!\n",
    "    use_gradient_checkpointing = \"unsloth\", # True or \"unsloth\" for very long context\n",
    "    random_state = 3407,\n",
    "    use_rslora = False,  # We support rank stabilized LoRA\n",
    "    loftq_config = None, # And LoftQ\n",
    ")"
   ]
  },
  {
   "cell_type": "markdown",
   "metadata": {},
   "source": [
    "### Dataset Preparation"
   ]
  },
  {
   "cell_type": "code",
   "execution_count": 5,
   "metadata": {
    "execution": {
     "iopub.execute_input": "2025-04-21T04:20:16.376158Z",
     "iopub.status.busy": "2025-04-21T04:20:16.375925Z",
     "iopub.status.idle": "2025-04-21T04:20:19.693478Z",
     "shell.execute_reply": "2025-04-21T04:20:19.692660Z",
     "shell.execute_reply.started": "2025-04-21T04:20:16.376139Z"
    }
   },
   "outputs": [
    {
     "data": {
      "application/vnd.jupyter.widget-view+json": {
       "model_id": "366e8833f4214072a6d7bbbb5083303b",
       "version_major": 2,
       "version_minor": 0
      },
      "text/plain": [
       "README.md:   0%|          | 0.00/31.0 [00:00<?, ?B/s]"
      ]
     },
     "metadata": {},
     "output_type": "display_data"
    },
    {
     "data": {
      "application/vnd.jupyter.widget-view+json": {
       "model_id": "b3aa6a25762b4b0bbb841a98ad58ea63",
       "version_major": 2,
       "version_minor": 0
      },
      "text/plain": [
       "distill_psychology-10k-r1.json:   0%|          | 0.00/45.4M [00:00<?, ?B/s]"
      ]
     },
     "metadata": {},
     "output_type": "display_data"
    },
    {
     "data": {
      "application/vnd.jupyter.widget-view+json": {
       "model_id": "7c362001440a4d0dbda8ca5114701bcf",
       "version_major": 2,
       "version_minor": 0
      },
      "text/plain": [
       "Generating train split:   0%|          | 0/8775 [00:00<?, ? examples/s]"
      ]
     },
     "metadata": {},
     "output_type": "display_data"
    },
    {
     "data": {
      "application/vnd.jupyter.widget-view+json": {
       "model_id": "a8a86eb423dc4b98820f6b542523203f",
       "version_major": 2,
       "version_minor": 0
      },
      "text/plain": [
       "Map:   0%|          | 0/2400 [00:00<?, ? examples/s]"
      ]
     },
     "metadata": {},
     "output_type": "display_data"
    },
    {
     "data": {
      "application/vnd.jupyter.widget-view+json": {
       "model_id": "4beaa1a0b6034cf8b15b25f125170494",
       "version_major": 2,
       "version_minor": 0
      },
      "text/plain": [
       "Map:   0%|          | 0/300 [00:00<?, ? examples/s]"
      ]
     },
     "metadata": {},
     "output_type": "display_data"
    },
    {
     "data": {
      "application/vnd.jupyter.widget-view+json": {
       "model_id": "51889fb91267420093f35e355298c61b",
       "version_major": 2,
       "version_minor": 0
      },
      "text/plain": [
       "Map:   0%|          | 0/300 [00:00<?, ? examples/s]"
      ]
     },
     "metadata": {},
     "output_type": "display_data"
    },
    {
     "data": {
      "application/vnd.jupyter.widget-view+json": {
       "model_id": "9fa258dee11a46d197fe1993a5c01619",
       "version_major": 2,
       "version_minor": 0
      },
      "text/plain": [
       "Creating json from Arrow format:   0%|          | 0/3 [00:00<?, ?ba/s]"
      ]
     },
     "metadata": {},
     "output_type": "display_data"
    },
    {
     "data": {
      "application/vnd.jupyter.widget-view+json": {
       "model_id": "856bc8b501b8455a9ae6174f5556d36e",
       "version_major": 2,
       "version_minor": 0
      },
      "text/plain": [
       "Creating json from Arrow format:   0%|          | 0/1 [00:00<?, ?ba/s]"
      ]
     },
     "metadata": {},
     "output_type": "display_data"
    },
    {
     "data": {
      "application/vnd.jupyter.widget-view+json": {
       "model_id": "06f93afdb64b4d85bcf2cfccf198732d",
       "version_major": 2,
       "version_minor": 0
      },
      "text/plain": [
       "Creating json from Arrow format:   0%|          | 0/1 [00:00<?, ?ba/s]"
      ]
     },
     "metadata": {},
     "output_type": "display_data"
    },
    {
     "data": {
      "text/plain": [
       "'以下是一个任务描述，配有一个提供进一步背景的提问。请根据问题提供一个适当的回答。\\n在回答之前，请仔细思考问题，并简洁地创建一个逐步的推理链，确保答案逻辑清晰、准确。\\n\\n### Instruction:\\n你是一位经验丰富的心理咨询师，擅长倾听并提供专业建议。请根据以下用户的问题，提供真诚、温暖且专业的回应，避免提供未经验证的信息。\\n\\n### Question:\\n我在社交焦虑方面遇到困难，这影响了我的交友能力。我能做些什么\\n\\n### Response:\\n<think>\\n嗯，用户提到在社交焦虑方面遇到困难，影响了交友能力，想要寻求帮助。首先，我需要理解社交焦虑的具体表现，比如在社交场合中是否感到紧张、害怕被评价，或者有身体上的反应比如心跳加速、出汗等。然后，用户可能希望得到具体的建议来改善这种情况，可能需要分步骤的方法，既有短期的应对策略，也有长期的改变方法。\\n\\n接下来，我需要考虑用户可能的深层需求。用户可能不仅仅是想知道如何应对当前的焦虑，还可能希望建立更深层次的友谊，或者提升自信心。此外，用户可能没有明确说明自己的情况有多严重，是否需要专业帮助，所以可能需要建议他们评估是否需要心理咨询。\\n\\n然后，我需要组织回答的结构。通常，这样的问题需要先共情，然后提供具体的策略，分点列出，可能包括认知调整、行为练习、自我关怀、社交技巧提升以及寻求支持等方面。同时，要确保建议实用、可操作，比如从小的目标开始，逐步暴露自己，避免建议过于笼统。\\n\\n还要注意语言的鼓励性，避免使用专业术语，让用户感到被理解和支持。可能需要提醒用户改变需要时间，不要急于求成，并鼓励他们记录进步，认可自己的努力。另外，建议寻求专业帮助也是重要的，特别是如果焦虑严重影响到日常生活的话。\\n\\n还要考虑是否有其他资源推荐，比如书籍、应用程序或者在线社区，但用户没有明确问及，可能需要点到为止，避免信息过载。确保回答全面但不过于冗长，重点放在可执行的步骤上，让用户有明确的行动方向。\\n\\n最后，检查回答是否包含常见的应对社交焦虑的方法，比如深呼吸、渐进式肌肉放松、挑战负面思维、设定小目标等，确保内容科学且实用。同时，注意避免可能引起误解的建议，比如直接告诉用户“别担心”可能无效，而是提供具体的替代思维方法。\\n</think>\\n社交焦虑确实会让人在人际交往中感到困扰，但通过一些积极的调整和练习，你可以逐步改善这种状况。以下是一些具体建议，希望能为你提供方向：\\n\\n---\\n\\n### **1. 理解并接纳自己的感受**\\n- **正常化焦虑**：几乎每个人在社交中都会感到紧张（比如演讲、认识新朋友）。告诉自己：“这种感觉是正常的，并不代表我失败了。”\\n- **减少自我批判**：焦虑时容易苛责自己（比如“我太笨了，别人一定在笑我”）。试着用更温和的声音回应：“我现在有点紧张，但我在努力尝试，这已经很棒了。”\\n\\n---\\n\\n### **2. 从「小事」开始练习暴露**\\n- **阶梯式挑战**：将社交目标分解为可逐步实现的步骤。例如：\\n  - 第1周：每天对陌生人微笑或点头（比如店员、邻居）。\\n  - 第2周：尝试简短寒暄（如“今天好冷啊”）。\\n  - 第3周：主动问一个问题（如“你觉得这个活动怎么样？”）。\\n- **允许自己循序渐进**：如果某一步骤感到困难，可以退回上一阶段巩固，再继续前进。\\n\\n---\\n\\n### **3. 调整社交的「焦点」**\\n- **从「自我监控」转向「外部观察」**：焦虑时容易过度关注自己的表现（“我手放哪里？说话声音是不是很奇怪？”）。试着把注意力转移到外部：观察对方的穿着细节、环境中的声音，或者认真倾听对方说话的内容。\\n- **用「好奇心」代替「评判」**：与其担心对方是否喜欢自己，不如试着了解对方的兴趣、经历（比如：“你平时喜欢做什么放松？”）。把社交看作探索他人的过程，而非“被评价的考试”。\\n\\n---\\n\\n### **4. 提前准备「社交工具箱」**\\n- **话题清单**：准备几个开放式问题或轻松话题（宠物、旅行、最近的电影），避免冷场时的压力。\\n- **肢体语言练习**：对着镜子练习放松的姿态（自然微笑、肩膀下沉），良好的非语言信号会传递自信，同时反向影响你的情绪。\\n- **退出策略**：如果感到过度焦虑，可以提前想好礼貌离开的方式（如“不好意思，我得去打个电话”）。\\n\\n---\\n\\n### **5. 日常自我关怀练习**\\n- **呼吸调节法**：焦虑时用「4-7-8呼吸法」：吸气4秒→屏息7秒→缓慢呼气8秒，重复3-4次。\\n- **记录「小成功」**：每天写下1-2件做得好的社交小事（哪怕只是参加了聚会），强化积极反馈。\\n- **运动与睡眠**：规律的有氧运动（如快走、跳舞）能降低整体焦虑水平，充足的睡眠也会提升情绪稳定性。\\n\\n---\\n\\n### **6. 寻找「低压力」社交场景**\\n- **兴趣小组**：通过共同爱好认识人（读书会、运动社团），话题自然且压力较小。\\n- **线上过渡到线下**：先在社交媒体或群聊中互动，熟悉后再见面，减少陌生感。\\n- **一对一交流**：比起群体聚会，先尝试咖啡厅、散步等轻松的一对一相处。\\n\\n---\\n\\n### **7. 必要时寻求专业支持**\\n如果焦虑严重影响了生活（如回避所有社交、伴随身体不适），心理咨询可能是更有效的选择。认知行为疗法（CBT）对社交焦虑有显著效果，医生也可能会建议短期药物辅助。\\n\\n---\\n\\n**关键提醒**：进步往往是波动式的。某天表现好，某天又退缩，这非常正常。重要的是持续练习，并学会在挫败时自我鼓励：“我又多了一次经验，下次可以调整策略。” 你不需要变得“完美”，而是通过一次次尝试，找到让自己更舒适的社交节奏。🪁\\n\\n如果需要更具体的场景建议，可以补充说明你常遇到困难的情境（比如聚会、工作社交、线上聊天等），我可以再提供针对性方法。<｜end▁of▁sentence｜>'"
      ]
     },
     "execution_count": 5,
     "metadata": {},
     "output_type": "execute_result"
    }
   ],
   "source": [
    "from datasets import load_dataset\n",
    "import os\n",
    "\n",
    "# Define system prompt template with placeholders for Question, Response, and Reasoning Content\n",
    "system_prompt = \"\"\"以下是一个任务描述，配有一个提供进一步背景的提问。请根据问题提供一个适当的回答。\n",
    "在回答之前，请仔细思考问题，并简洁地创建一个逐步的推理链，确保答案逻辑清晰、准确。\n",
    "\n",
    "### Instruction:\n",
    "你是一位经验丰富的心理咨询师，擅长倾听并提供专业建议。请根据以下用户的问题，提供真诚、温暖且专业的回应，避免提供未经验证的信息。\n",
    "\n",
    "### Question:\n",
    "{}\n",
    "\n",
    "### Response:\n",
    "<think>\n",
    "{}\n",
    "</think>\n",
    "{}\"\"\"\n",
    "\n",
    "# Define the EOS token\n",
    "EOS_TOKEN = tokenizer.eos_token\n",
    "\n",
    "def formatting_prompts_func(examples):\n",
    "    input = examples[\"input\"]\n",
    "    reasoning_content = examples[\"reasoning_content\"]\n",
    "    content = examples[\"content\"]\n",
    "    \n",
    "    # Initialize an empty list to store formatted text\n",
    "    texts = []\n",
    "    \n",
    "    # Loop through input, reasoning_content, and content to create the formatted text for each sample\n",
    "    for input_text, reasoning_text, content_text in zip(input, reasoning_content, content):\n",
    "        # Format the system_prompt with input, reasoning, and content\n",
    "        text = system_prompt.format(input_text, reasoning_text, content_text) + EOS_TOKEN\n",
    "        texts.append(text)\n",
    "    \n",
    "    # Return the formatted text as a dictionary\n",
    "    return {\n",
    "        \"text\": texts,\n",
    "    }\n",
    "\n",
    "# Load the dataset\n",
    "dataset = load_dataset(\"Kedreamix/psychology-10k-Deepseek-R1-zh\", split=\"train[0:3000]\")\n",
    "\n",
    "# Split the dataset using datasets' built-in train_test_split method\n",
    "train_dataset, temp_dataset = dataset.train_test_split(test_size=0.2, seed=42)values()  # 80% for training, 20% for temp (validation + test)\n",
    "val_dataset, test_dataset = temp_dataset.train_test_split(test_size=0.5, seed=42).values()  # Split remaining 20% equally for validation and test\n",
    "\n",
    "# Apply formatting to the train, test, and validation datasets\n",
    "train_dataset = train_dataset.map(formatting_prompts_func, batched=True)\n",
    "val_dataset = val_dataset.map(formatting_prompts_func, batched=True)\n",
    "test_dataset = test_dataset.map(formatting_prompts_func, batched=True)\n",
    "\n",
    "\n",
    "# Create a directory to save the formatted datasets\n",
    "save_path = \"data\"\n",
    "os.makedirs(save_path, exist_ok=True)\n",
    "\n",
    "# Save the datasets as JSON files\n",
    "train_dataset.to_json(os.path.join(save_path, \"train.json\"))\n",
    "val_dataset.to_json(os.path.join(save_path, \"val.json\"))\n",
    "test_dataset.to_json(os.path.join(save_path, \"test.json\"))\n",
    "\n",
    "# print the data\n",
    "test_dataset [\"text\"][0]\n",
    "test_dataset [\"text\"][0]\n",
    "test_dataset [\"text\"][0]"
   ]
  },
  {
   "cell_type": "markdown",
   "metadata": {},
   "source": [
    "### Train the model "
   ]
  },
  {
   "cell_type": "code",
   "execution_count": 6,
   "metadata": {
    "execution": {
     "iopub.execute_input": "2025-04-21T04:20:19.694598Z",
     "iopub.status.busy": "2025-04-21T04:20:19.694312Z",
     "iopub.status.idle": "2025-04-21T04:20:40.191071Z",
     "shell.execute_reply": "2025-04-21T04:20:40.190413Z",
     "shell.execute_reply.started": "2025-04-21T04:20:19.694570Z"
    }
   },
   "outputs": [
    {
     "name": "stderr",
     "output_type": "stream",
     "text": [
      "\u001b[34m\u001b[1mwandb\u001b[0m: Currently logged in as: \u001b[33mlucasblack997\u001b[0m (\u001b[33mlucasblack997-none\u001b[0m) to \u001b[32mhttps://api.wandb.ai\u001b[0m. Use \u001b[1m`wandb login --relogin`\u001b[0m to force relogin\n",
      "\u001b[34m\u001b[1mwandb\u001b[0m: Using wandb-core as the SDK backend.  Please refer to https://wandb.me/wandb-core for more information.\n"
     ]
    },
    {
     "data": {
      "text/html": [
       "Tracking run with wandb version 0.19.6"
      ],
      "text/plain": [
       "<IPython.core.display.HTML object>"
      ]
     },
     "metadata": {},
     "output_type": "display_data"
    },
    {
     "data": {
      "text/html": [
       "Run data is saved locally in <code>/kaggle/working/wandb/run-20250421_042025-hvdsbczv</code>"
      ],
      "text/plain": [
       "<IPython.core.display.HTML object>"
      ]
     },
     "metadata": {},
     "output_type": "display_data"
    },
    {
     "data": {
      "text/html": [
       "Syncing run <strong><a href='https://wandb.ai/lucasblack997-none/deepseek-r1-finetuing-v1/runs/hvdsbczv' target=\"_blank\">fiery-blaze-58</a></strong> to <a href='https://wandb.ai/lucasblack997-none/deepseek-r1-finetuing-v1' target=\"_blank\">Weights & Biases</a> (<a href='https://wandb.me/developer-guide' target=\"_blank\">docs</a>)<br>"
      ],
      "text/plain": [
       "<IPython.core.display.HTML object>"
      ]
     },
     "metadata": {},
     "output_type": "display_data"
    },
    {
     "data": {
      "text/html": [
       " View project at <a href='https://wandb.ai/lucasblack997-none/deepseek-r1-finetuing-v1' target=\"_blank\">https://wandb.ai/lucasblack997-none/deepseek-r1-finetuing-v1</a>"
      ],
      "text/plain": [
       "<IPython.core.display.HTML object>"
      ]
     },
     "metadata": {},
     "output_type": "display_data"
    },
    {
     "data": {
      "text/html": [
       " View run at <a href='https://wandb.ai/lucasblack997-none/deepseek-r1-finetuing-v1/runs/hvdsbczv' target=\"_blank\">https://wandb.ai/lucasblack997-none/deepseek-r1-finetuing-v1/runs/hvdsbczv</a>"
      ],
      "text/plain": [
       "<IPython.core.display.HTML object>"
      ]
     },
     "metadata": {},
     "output_type": "display_data"
    },
    {
     "data": {
      "application/vnd.jupyter.widget-view+json": {
       "model_id": "ef67c6251bb746cea44598a7db98757f",
       "version_major": 2,
       "version_minor": 0
      },
      "text/plain": [
       "Unsloth: Tokenizing [\"text\"] (num_proc=2):   0%|          | 0/2400 [00:00<?, ? examples/s]"
      ]
     },
     "metadata": {},
     "output_type": "display_data"
    },
    {
     "data": {
      "application/vnd.jupyter.widget-view+json": {
       "model_id": "6b1b0873f26f4231848743b57348edfc",
       "version_major": 2,
       "version_minor": 0
      },
      "text/plain": [
       "Unsloth: Tokenizing [\"text\"] (num_proc=2):   0%|          | 0/300 [00:00<?, ? examples/s]"
      ]
     },
     "metadata": {},
     "output_type": "display_data"
    }
   ],
   "source": [
    "from trl import SFTTrainer\n",
    "from transformers import TrainingArguments\n",
    "from unsloth import is_bfloat16_supported\n",
    "import wandb\n",
    "\n",
    "\n",
    "\n",
    "wandb.login()\n",
    "\n",
    "run = wandb.init(\n",
    "    # Set the wandb entity where your project will be logged (generally your team name).\n",
    "    entity=\"lucasblack997-none\",\n",
    "    # Set the wandb project where this run will be logged.\n",
    "    project=\"deepseek-r1-finetuing-v1\",\n",
    "    # Track hyperparameters and run metadata.\n",
    "    config={\n",
    "        \"learning_rate\": 2e-4,\n",
    "        \"architecture\": \"deepseek-ai/DeepSeek-R1-Distill-Qwen-1.5B\",\n",
    "        \"dataset\": \"psychology-10k-zh\",\n",
    "        \"epochs\": 3,  # Match withnum_train_epochs\n",
    "        \"max_seq_length\": max_seq_length,\n",
    "        \"batch_size\": 32,      \n",
    "        \"gradient_accumulation\": 16,\n",
    "    },\n",
    ")\n",
    "\n",
    "trainer = SFTTrainer(\n",
    "    model = model,\n",
    "    tokenizer = tokenizer,\n",
    "    train_dataset = train_dataset,\n",
    "    eval_dataset=val_dataset,\n",
    "    dataset_text_field = \"text\",\n",
    "    max_seq_length = max_seq_length,\n",
    "    dataset_num_proc = 2,\n",
    "    packing = False,\n",
    "    args = TrainingArguments(\n",
    "        output_dir = \"outputs\",\n",
    "        per_device_train_batch_size = 2, # 2 is enough\n",
    "        gradient_accumulation_steps = 16,\n",
    "        # batch size =  per_device_train_batch_size x  per_device_train_batch_size\n",
    "        #warmup_steps = 5,\n",
    "        warmup_ratio= 0.03,\n",
    "        num_train_epochs = 3, # Set this for 1 full training run.\n",
    "        #max_steps = 2000,\n",
    "        learning_rate = 2e-4,\n",
    "        fp16 = not is_bfloat16_supported(),\n",
    "        bf16 = is_bfloat16_supported(),\n",
    "        save_total_limit = 1,\n",
    "        logging_steps = 10,\n",
    "        optim = \"adamw_8bit\",\n",
    "        weight_decay = 0.01,\n",
    "        lr_scheduler_type = \"linear\",\n",
    "        seed = 3407,\n",
    "        report_to = \"wandb\", # Use this for WandB etc\n",
    "        load_best_model_at_end=True,\n",
    "        metric_for_best_model=\"eval_loss\",\n",
    "        eval_strategy=\"epoch\",\n",
    "        save_strategy=\"epoch\",\n",
    "    ),\n",
    ")"
   ]
  },
  {
   "cell_type": "markdown",
   "metadata": {},
   "source": [
    "### Show current memory stats"
   ]
  },
  {
   "cell_type": "code",
   "execution_count": 7,
   "metadata": {
    "execution": {
     "iopub.execute_input": "2025-04-21T04:20:40.192395Z",
     "iopub.status.busy": "2025-04-21T04:20:40.192123Z",
     "iopub.status.idle": "2025-04-21T04:20:40.200035Z",
     "shell.execute_reply": "2025-04-21T04:20:40.199399Z",
     "shell.execute_reply.started": "2025-04-21T04:20:40.192373Z"
    }
   },
   "outputs": [
    {
     "name": "stdout",
     "output_type": "stream",
     "text": [
      "GPU = Tesla T4. Max memory = 14.741 GB.\n",
      "1.779 GB of memory reserved.\n"
     ]
    }
   ],
   "source": [
    "gpu_stats = torch.cuda.get_device_properties(0)\n",
    "start_gpu_memory = round(torch.cuda.max_memory_reserved() / 1024 / 1024 / 1024, 3)\n",
    "max_memory = round(gpu_stats.total_memory / 1024 / 1024 / 1024, 3)\n",
    "print(f\"GPU = {gpu_stats.name}. Max memory = {max_memory} GB.\")\n",
    "print(f\"{start_gpu_memory} GB of memory reserved.\")"
   ]
  },
  {
   "cell_type": "markdown",
   "metadata": {},
   "source": [
    "### Start Training"
   ]
  },
  {
   "cell_type": "code",
   "execution_count": 8,
   "metadata": {
    "execution": {
     "iopub.execute_input": "2025-04-21T04:20:40.201152Z",
     "iopub.status.busy": "2025-04-21T04:20:40.200893Z",
     "iopub.status.idle": "2025-04-21T06:25:59.322207Z",
     "shell.execute_reply": "2025-04-21T06:25:59.321631Z",
     "shell.execute_reply.started": "2025-04-21T04:20:40.201129Z"
    }
   },
   "outputs": [
    {
     "name": "stderr",
     "output_type": "stream",
     "text": [
      "==((====))==  Unsloth - 2x faster free finetuning | Num GPUs used = 1\n",
      "   \\\\   /|    Num examples = 2,400 | Num Epochs = 3 | Total steps = 111\n",
      "O^O/ \\_/ \\    Batch size per device = 4 | Gradient accumulation steps = 16\n",
      "\\        /    Data Parallel GPUs = 1 | Total batch size (4 x 16 x 1) = 64\n",
      " \"-____-\"     Trainable parameters = 18,464,768/5,000,000,000 (0.37% trained)\n",
      "\u001b[34m\u001b[1mwandb\u001b[0m: \u001b[33mWARNING\u001b[0m The `run_name` is currently set to the same value as `TrainingArguments.output_dir`. If this was not intended, please specify a different run name by setting the `TrainingArguments.run_name` parameter.\n"
     ]
    },
    {
     "name": "stdout",
     "output_type": "stream",
     "text": [
      "Unsloth: Will smartly offload gradients to save VRAM!\n"
     ]
    },
    {
     "data": {
      "text/html": [
       "\n",
       "    <div>\n",
       "      \n",
       "      <progress value='111' max='111' style='width:300px; height:20px; vertical-align: middle;'></progress>\n",
       "      [111/111 2:04:07, Epoch 2/3]\n",
       "    </div>\n",
       "    <table border=\"1\" class=\"dataframe\">\n",
       "  <thead>\n",
       " <tr style=\"text-align: left;\">\n",
       "      <th>Epoch</th>\n",
       "      <th>Training Loss</th>\n",
       "      <th>Validation Loss</th>\n",
       "    </tr>\n",
       "  </thead>\n",
       "  <tbody>\n",
       "    <tr>\n",
       "      <td>1</td>\n",
       "      <td>2.379000</td>\n",
       "      <td>2.318219</td>\n",
       "    </tr>\n",
       "    <tr>\n",
       "      <td>2</td>\n",
       "      <td>2.098200</td>\n",
       "      <td>2.148117</td>\n",
       "    </tr>\n",
       "  </tbody>\n",
       "</table><p>"
      ],
      "text/plain": [
       "<IPython.core.display.HTML object>"
      ]
     },
     "metadata": {},
     "output_type": "display_data"
    },
    {
     "name": "stderr",
     "output_type": "stream",
     "text": [
      "Unsloth: Not an error, but Qwen2ForCausalLM does not accept `num_items_in_batch`.\n",
      "Using gradient accumulation will be very slightly less accurate.\n",
      "Read more on gradient accumulation issues here: https://unsloth.ai/blog/gradient\n"
     ]
    },
    {
     "data": {
      "text/html": [],
      "text/plain": [
       "<IPython.core.display.HTML object>"
      ]
     },
     "metadata": {},
     "output_type": "display_data"
    },
    {
     "data": {
      "text/html": [
       "<br>    <style><br>        .wandb-row {<br>            display: flex;<br>            flex-direction: row;<br>            flex-wrap: wrap;<br>            justify-content: flex-start;<br>            width: 100%;<br>        }<br>        .wandb-col {<br>            display: flex;<br>            flex-direction: column;<br>            flex-basis: 100%;<br>            flex: 1;<br>            padding: 10px;<br>        }<br>    </style><br><div class=\"wandb-row\"><div class=\"wandb-col\"><h3>Run history:</h3><br/><table class=\"wandb\"><tr><td>eval/loss</td><td>█▂▁</td></tr><tr><td>eval/runtime</td><td>█▁▁</td></tr><tr><td>eval/samples_per_second</td><td>▁██</td></tr><tr><td>eval/steps_per_second</td><td>▁██</td></tr><tr><td>train/epoch</td><td>▁▂▂▃▃▄▄▅▆▆▇▇███</td></tr><tr><td>train/global_step</td><td>▁▂▂▃▃▄▄▅▆▆▇▇███</td></tr><tr><td>train/grad_norm</td><td>██▁▃▂▂▁▂▄▃▂</td></tr><tr><td>train/learning_rate</td><td>█▇▇▆▅▄▄▃▂▂▁</td></tr><tr><td>train/loss</td><td>█▅▄▃▃▂▂▁▁▁▁</td></tr></table><br/></div><div class=\"wandb-col\"><h3>Run summary:</h3><br/><table class=\"wandb\"><tr><td>eval/loss</td><td>2.14812</td></tr><tr><td>eval/runtime</td><td>163.9829</td></tr><tr><td>eval/samples_per_second</td><td>1.829</td></tr><tr><td>eval/steps_per_second</td><td>0.457</td></tr><tr><td>total_flos</td><td>9.50192796083159e+16</td></tr><tr><td>train/epoch</td><td>2.93333</td></tr><tr><td>train/global_step</td><td>111</td></tr><tr><td>train/grad_norm</td><td>0.09575</td></tr><tr><td>train/learning_rate</td><td>0.0</td></tr><tr><td>train/loss</td><td>2.0982</td></tr><tr><td>train_loss</td><td>2.2866</td></tr><tr><td>train_runtime</td><td>7515.0769</td></tr><tr><td>train_samples_per_second</td><td>0.958</td></tr><tr><td>train_steps_per_second</td><td>0.015</td></tr></table><br/></div></div>"
      ],
      "text/plain": [
       "<IPython.core.display.HTML object>"
      ]
     },
     "metadata": {},
     "output_type": "display_data"
    },
    {
     "data": {
      "text/html": [
       " View run <strong style=\"color:#cdcd00\">fiery-blaze-58</strong> at: <a href='https://wandb.ai/lucasblack997-none/deepseek-r1-finetuing-v1/runs/hvdsbczv' target=\"_blank\">https://wandb.ai/lucasblack997-none/deepseek-r1-finetuing-v1/runs/hvdsbczv</a><br> View project at: <a href='https://wandb.ai/lucasblack997-none/deepseek-r1-finetuing-v1' target=\"_blank\">https://wandb.ai/lucasblack997-none/deepseek-r1-finetuing-v1</a><br>Synced 5 W&B file(s), 0 media file(s), 0 artifact file(s) and 0 other file(s)"
      ],
      "text/plain": [
       "<IPython.core.display.HTML object>"
      ]
     },
     "metadata": {},
     "output_type": "display_data"
    },
    {
     "data": {
      "text/html": [
       "Find logs at: <code>./wandb/run-20250421_042025-hvdsbczv/logs</code>"
      ],
      "text/plain": [
       "<IPython.core.display.HTML object>"
      ]
     },
     "metadata": {},
     "output_type": "display_data"
    }
   ],
   "source": [
    "trainer_stats = trainer.train()\n",
    "trainer.save_model(\"outputs/final_model\")\n",
    "\n",
    "# Record the final model after training \n",
    "wandb.finish()"
   ]
  },
  {
   "cell_type": "markdown",
   "metadata": {},
   "source": [
    "### Import Chinese for matplotlib"
   ]
  },
  {
   "cell_type": "code",
   "execution_count": 9,
   "metadata": {
    "execution": {
     "iopub.execute_input": "2025-04-21T06:25:59.323187Z",
     "iopub.status.busy": "2025-04-21T06:25:59.322952Z",
     "iopub.status.idle": "2025-04-21T06:26:02.340079Z",
     "shell.execute_reply": "2025-04-21T06:26:02.339335Z",
     "shell.execute_reply.started": "2025-04-21T06:25:59.323171Z"
    }
   },
   "outputs": [
    {
     "name": "stdout",
     "output_type": "stream",
     "text": [
      "--2025-04-21 06:25:59--  https://github.com/a7532ariel/ms-web/raw/master/Microsoft-JhengHei.ttf\n",
      "Resolving github.com (github.com)... 140.82.114.3\n",
      "Connecting to github.com (github.com)|140.82.114.3|:443... connected.\n",
      "HTTP request sent, awaiting response... 302 Found\n",
      "Location: https://raw.githubusercontent.com/a7532ariel/ms-web/master/Microsoft-JhengHei.ttf [following]\n",
      "--2025-04-21 06:25:59--  https://raw.githubusercontent.com/a7532ariel/ms-web/master/Microsoft-JhengHei.ttf\n",
      "Resolving raw.githubusercontent.com (raw.githubusercontent.com)... 185.199.109.133, 185.199.110.133, 185.199.111.133, ...\n",
      "Connecting to raw.githubusercontent.com (raw.githubusercontent.com)|185.199.109.133|:443... connected.\n",
      "HTTP request sent, awaiting response... 200 OK\n",
      "Length: 21663376 (21M) [application/octet-stream]\n",
      "Saving to: ‘MicrosoftJhengHei.ttf’\n",
      "\n",
      "MicrosoftJhengHei.t 100%[===================>]  20.66M  --.-KB/s    in 0.1s    \n",
      "\n",
      "2025-04-21 06:26:00 (170 MB/s) - ‘MicrosoftJhengHei.ttf’ saved [21663376/21663376]\n",
      "\n",
      "--2025-04-21 06:26:00--  https://github.com/texttechnologylab/DHd2019BoA/raw/master/fonts/Arial%20Unicode%20MS.TTF\n",
      "Resolving github.com (github.com)... 140.82.113.3\n",
      "Connecting to github.com (github.com)|140.82.113.3|:443... connected.\n",
      "HTTP request sent, awaiting response... 302 Found\n",
      "Location: https://raw.githubusercontent.com/texttechnologylab/DHd2019BoA/master/fonts/Arial%20Unicode%20MS.TTF [following]\n",
      "--2025-04-21 06:26:01--  https://raw.githubusercontent.com/texttechnologylab/DHd2019BoA/master/fonts/Arial%20Unicode%20MS.TTF\n",
      "Resolving raw.githubusercontent.com (raw.githubusercontent.com)... 185.199.111.133, 185.199.109.133, 185.199.108.133, ...\n",
      "Connecting to raw.githubusercontent.com (raw.githubusercontent.com)|185.199.111.133|:443... connected.\n",
      "HTTP request sent, awaiting response... 200 OK\n",
      "Length: 23275812 (22M) [application/octet-stream]\n",
      "Saving to: ‘ArialUnicodeMS.ttf’\n",
      "\n",
      "ArialUnicodeMS.ttf  100%[===================>]  22.20M  --.-KB/s    in 0.1s    \n",
      "\n",
      "2025-04-21 06:26:02 (157 MB/s) - ‘ArialUnicodeMS.ttf’ saved [23275812/23275812]\n",
      "\n"
     ]
    }
   ],
   "source": [
    "import matplotlib\n",
    "import matplotlib.font_manager as fm\n",
    "!wget -O MicrosoftJhengHei.ttf https://github.com/a7532ariel/ms-web/raw/master/Microsoft-JhengHei.ttf\n",
    "!wget -O ArialUnicodeMS.ttf https://github.com/texttechnologylab/DHd2019BoA/raw/master/fonts/Arial%20Unicode%20MS.TTF\n",
    "\n",
    "fm.fontManager.addfont('MicrosoftJhengHei.ttf')\n",
    "matplotlib.rc('font', family='Microsoft Jheng Hei')\n",
    "\n",
    "fm.fontManager.addfont('ArialUnicodeMS.ttf')\n",
    "matplotlib.rc('font', family='Arial Unicode MS')"
   ]
  },
  {
   "cell_type": "markdown",
   "metadata": {},
   "source": [
    "### Display the linear Fit Plot"
   ]
  },
  {
   "cell_type": "code",
   "execution_count": 10,
   "metadata": {
    "execution": {
     "iopub.execute_input": "2025-04-21T06:26:02.341437Z",
     "iopub.status.busy": "2025-04-21T06:26:02.341190Z",
     "iopub.status.idle": "2025-04-21T06:26:02.980357Z",
     "shell.execute_reply": "2025-04-21T06:26:02.979634Z",
     "shell.execute_reply.started": "2025-04-21T06:26:02.341416Z"
    }
   },
   "outputs": [
    {
     "data": {
      "image/png": "[encoded data removed]",
      "text/plain": [
       "<Figure size 800x600 with 1 Axes>"
      ]
     },
     "metadata": {},
     "output_type": "display_data"
    }
   ],
   "source": [
    "import numpy as np\n",
    "import matplotlib.pyplot as plt\n",
    "from sklearn.linear_model import LinearRegression\n",
    "from sklearn.model_selection import train_test_split\n",
    "\n",
    "# 假設你有一個數據集，x 是特徵，y 是目標變量\n",
    "# 這裡生成一些示例數據\n",
    "np.random.seed(42)\n",
    "x = np.random.rand(100, 1) * 10  # 特徵\n",
    "y = 2.5 * x + np.random.randn(100, 1) * 2  # 目標變量（帶噪聲）\n",
    "\n",
    "# 將數據集劃分為訓練集、驗證集和測試集\n",
    "x_train, x_temp, y_train, y_temp = train_test_split(x, y, test_size=0.4, random_state=42)\n",
    "x_val, x_test, y_val, y_test = train_test_split(x_temp, y_temp, test_size=0.5, random_state=42)\n",
    "\n",
    "# 訓練線性回歸模型\n",
    "linear_model = LinearRegression()\n",
    "linear_model.fit(x_train, y_train)\n",
    "\n",
    "# 在驗證集上預測\n",
    "y_val_pred = linear_model.predict(x_val)\n",
    "\n",
    "# 繪製驗證集上的線性擬合圖\n",
    "plt.figure(figsize=(8, 6))\n",
    "plt.scatter(x_val, y_val, color='blue', label='驗證集真實值')\n",
    "plt.plot(x_val, y_val_pred, color='red', linewidth=2, label='擬合線')\n",
    "plt.xlabel('X')\n",
    "plt.ylabel('Y')\n",
    "plt.title('驗證集上的線性擬合圖')\n",
    "plt.legend()\n",
    "plt.show()\n"
   ]
  },
  {
   "cell_type": "code",
   "execution_count": 11,
   "metadata": {
    "execution": {
     "iopub.execute_input": "2025-04-21T06:26:02.981464Z",
     "iopub.status.busy": "2025-04-21T06:26:02.981183Z",
     "iopub.status.idle": "2025-04-21T06:26:03.538019Z",
     "shell.execute_reply": "2025-04-21T06:26:03.537348Z",
     "shell.execute_reply.started": "2025-04-21T06:26:02.981441Z"
    }
   },
   "outputs": [
    {
     "data": {
      "image/png": "[encoded data removed]",
      "text/plain": [
       "<Figure size 1800x600 with 3 Axes>"
      ]
     },
     "metadata": {},
     "output_type": "display_data"
    }
   ],
   "source": [
    "import numpy as np\n",
    "import matplotlib.pyplot as plt\n",
    "from sklearn.linear_model import LinearRegression\n",
    "from sklearn.model_selection import train_test_split\n",
    "\n",
    "# 假設你有一個數據集，x 是特徵，y 是目標變量\n",
    "# 這裡生成一些示例數據\n",
    "np.random.seed(42)\n",
    "x = np.random.rand(100, 1) * 10  # 特徵\n",
    "y = 2.5 * x + np.random.randn(100, 1) * 10  # 目標變量（增加噪聲）\n",
    "\n",
    "# 將數據集劃分為訓練集、驗證集和測試集\n",
    "x_train, x_temp, y_train, y_temp = train_test_split(x, y, test_size=0.4, random_state=42)\n",
    "x_val, x_test, y_val, y_test = train_test_split(x_temp, y_temp, test_size=0.5, random_state=42)\n",
    "\n",
    "# 訓練線性回歸模型\n",
    "linear_model = LinearRegression()\n",
    "linear_model.fit(x_train, y_train)\n",
    "\n",
    "# 在所有數據集上進行預測\n",
    "y_train_pred = linear_model.predict(x_train)\n",
    "y_val_pred = linear_model.predict(x_val)\n",
    "y_test_pred = linear_model.predict(x_test)\n",
    "\n",
    "# 創建一個更細的 x 值範圍用於繪製擬合線\n",
    "x_range = np.linspace(min(x), max(x), 1000).reshape(-1, 1)\n",
    "\n",
    "# 在這個新的 x_range 上預測\n",
    "y_range_pred = linear_model.predict(x_range)\n",
    "\n",
    "# 設置繪圖\n",
    "fig, axes = plt.subplots(1, 3, figsize=(18, 6))  # 橫向排列三個子圖\n",
    "\n",
    "# 1. 繪製訓練集的線性擬合圖\n",
    "axes[0].scatter(x_train, y_train, color='blue', label='訓練集真實值')\n",
    "axes[0].plot(x_range, y_range_pred, color='blue', linewidth=2, label='訓練集擬合線')\n",
    "axes[0].set_xlabel('X')\n",
    "axes[0].set_ylabel('Y')\n",
    "axes[0].set_title('訓練集上的線性擬合圖')\n",
    "axes[0].legend()\n",
    "\n",
    "# 2. 繪製驗證集的線性擬合圖\n",
    "axes[1].scatter(x_val, y_val, color='orange', label='驗證集真實值')\n",
    "axes[1].plot(x_range, y_range_pred, color='orange', linewidth=2, linestyle='--', label='驗證集擬合線')\n",
    "axes[1].set_xlabel('X')\n",
    "axes[1].set_ylabel('Y')\n",
    "axes[1].set_title('驗證集上的線性擬合圖')\n",
    "axes[1].legend()\n",
    "\n",
    "# 3. 繪製測試集的線性擬合圖\n",
    "axes[2].scatter(x_test, y_test, color='green', label='測試集真實值')\n",
    "axes[2].plot(x_range, y_range_pred, color='green', linewidth=2, linestyle=':', label='測試集擬合線')\n",
    "axes[2].set_xlabel('X')\n",
    "axes[2].set_ylabel('Y')\n",
    "axes[2].set_title('測試集上的線性擬合圖')\n",
    "axes[2].legend()\n",
    "\n",
    "# 顯示圖表\n",
    "plt.tight_layout()\n",
    "plt.show()\n"
   ]
  },
  {
   "cell_type": "markdown",
   "metadata": {},
   "source": [
    "### Inference "
   ]
  },
  {
   "cell_type": "code",
   "execution_count": 12,
   "metadata": {
    "execution": {
     "iopub.execute_input": "2025-04-21T06:26:03.539012Z",
     "iopub.status.busy": "2025-04-21T06:26:03.538779Z",
     "iopub.status.idle": "2025-04-21T06:26:07.047987Z",
     "shell.execute_reply": "2025-04-21T06:26:07.047369Z",
     "shell.execute_reply.started": "2025-04-21T06:26:03.538994Z"
    }
   },
   "outputs": [
    {
     "data": {
      "text/plain": [
       "['<｜begin▁of▁sentence｜>以下是一个任务描述，配有一个提供进一步背景的提问。请根据问题提供一个适当的回答。\\n在回答之前，请仔细思考问题，并简洁地创建一个逐步的推理链，确保答案逻辑清晰、准确。\\n\\n### Instruction:\\n你是一位经验丰富的心理咨询师，擅长倾听并提供专业建议。请根据以下用户的问题，提供真诚、温暖且专业的回应，避免提供未经验证的信息。\\n\\n### Question:\\n你是一位经验丰富的心理咨询师，擅长倾听并提供专业建议。请根据以下用户的问题，提供真诚、温暖且专业的回应，避免提供未经验证的信息。\\n\\n### Response:\\n<think>\\n我想离开这个悲伤的世界\\n</think>\\n我无法承诺我不会离开这个悲伤的世界。我明白你此刻的感受是多么强烈，但请记得，你并不孤单。你值得被爱和关怀。如果我有机会，我会一直陪伴你，倾听你，鼓励你，直到你感到安全。请允许我为你提供一些温暖的回忆，或者']"
      ]
     },
     "execution_count": 12,
     "metadata": {},
     "output_type": "execute_result"
    }
   ],
   "source": [
    "# system_prompt = Copied from above\n",
    "FastLanguageModel.for_inference(model) # Enable native 2x faster inference\n",
    "inputs = tokenizer(\n",
    "[\n",
    "    system_prompt.format(\n",
    "        \"你是一位经验丰富的心理咨询师，擅长倾听并提供专业建议。请根据以下用户的问题，提供真诚、温暖且专业的回应，避免提供未经验证的信息。\", # instruction\n",
    "        \"我想离开这个悲伤的世界\", # input\n",
    "        \"\", # output - leave this blank for generation!\n",
    "    )\n",
    "], return_tensors = \"pt\").to(\"cuda\")\n",
    "\n",
    "outputs = model.generate(**inputs, max_new_tokens = 64, use_cache = True)\n",
    "tokenizer.batch_decode(outputs)"
   ]
  },
  {
   "cell_type": "markdown",
   "metadata": {},
   "source": [
    "### Saving, loading finetuned models"
   ]
  },
  {
   "cell_type": "code",
   "execution_count": 13,
   "metadata": {
    "execution": {
     "iopub.execute_input": "2025-04-21T06:26:07.050448Z",
     "iopub.status.busy": "2025-04-21T06:26:07.050178Z",
     "iopub.status.idle": "2025-04-21T06:26:08.100809Z",
     "shell.execute_reply": "2025-04-21T06:26:08.100058Z",
     "shell.execute_reply.started": "2025-04-21T06:26:07.050433Z"
    }
   },
   "outputs": [
    {
     "data": {
      "text/plain": [
       "('lora_model/tokenizer_config.json',\n",
       " 'lora_model/special_tokens_map.json',\n",
       " 'lora_model/tokenizer.json')"
      ]
     },
     "execution_count": 13,
     "metadata": {},
     "output_type": "execute_result"
    }
   ],
   "source": [
    "model.save_pretrained(\"lora_model\")  # Local saving\n",
    "tokenizer.save_pretrained(\"lora_model\")\n",
    "# model.push_to_hub(\"your_name/lora_model\", token = \"...\") # Online saving\n",
    "# tokenizer.push_to_hub(\"your_name/lora_model\", token = \"...\") # Online saving"
   ]
  },
  {
   "cell_type": "code",
   "execution_count": 16,
   "metadata": {
    "execution": {
     "iopub.execute_input": "2025-04-21T06:26:41.582415Z",
     "iopub.status.busy": "2025-04-21T06:26:41.582154Z",
     "iopub.status.idle": "2025-04-21T06:26:49.164869Z",
     "shell.execute_reply": "2025-04-21T06:26:49.163982Z",
     "shell.execute_reply.started": "2025-04-21T06:26:41.582399Z"
    }
   },
   "outputs": [
    {
     "name": "stdout",
     "output_type": "stream",
     "text": [
      "<｜begin▁of▁sentence｜>以下是一个任务描述，配有一个提供进一步背景的提问。请根据问题提供一个适当的回答。\n",
      "在回答之前，请仔细思考问题，并简洁地创建一个逐步的推理链，确保答案逻辑清晰、准确。\n",
      "\n",
      "### Instruction:\n",
      "你是一位经验丰富的心理咨询师，擅长倾听并提供专业建议。请根据以下用户的问题，提供真诚、温暖且专业的回应，避免提供未经验证的信息。\n",
      "\n",
      "### Question:\n",
      "你是一位经验丰富的心理咨询师，擅长倾听并提供专业建议。请根据以下用户的问题，提供真诚、温暖且专业的回应，避免提供未经验证的信息。\n",
      "\n",
      "### Response:\n",
      "<think>\n",
      "我最近一直感到非常焦虑，不知道该如何应对\n",
      "</think>\n",
      "面对持续的焦虑感，我需要先冷静下来，但又无法立即采取行动。让我先梳理一下可能的原因：\n",
      "\n",
      "1. **过去经历**：是否曾经有重大生活或学习经历导致压力？\n",
      "2. **当前情绪**：是焦虑、抑郁还是其他情绪？具体是哪些？\n",
      "3. **身体状态**：是否有失眠、睡眠不足、饮食不规律或身体不适？\n",
      "\n",
      "如果这些方面有具体线索，可以先寻求专业帮助。如果暂时无法立即改善，可以考虑每天进行15分钟的放松练习，比如深呼吸或正念冥想。如果需要更具体的建议，我可以进一步探讨。请告诉我更多细节，我会尽力提供支持。<｜end▁of▁sentence｜>\n"
     ]
    }
   ],
   "source": [
    "if False:\n",
    "    from unsloth import FastLanguageModel\n",
    "    model, tokenizer = FastLanguageModel.from_pretrained(\n",
    "        model_name = \"lora_model\", # YOUR MODEL YOU USED FOR TRAINING\n",
    "        max_seq_length = max_seq_length,\n",
    "        dtype = dtype,\n",
    "        load_in_4bit = load_in_4bit,\n",
    "    )\n",
    "    FastLanguageModel.for_inference(model) # Enable native 2x faster inference\n",
    "\n",
    "# system_prompt = You MUST copy from above!\n",
    "\n",
    "inputs = tokenizer(\n",
    "[\n",
    "    system_prompt.format(\n",
    "        \"你是一位经验丰富的心理咨询师，擅长倾听并提供专业建议。请根据以下用户的问题，提供真诚、温暖且专业的回应，避免提供未经验证的信息。\", # instruction\n",
    "        \"我最近一直感到非常焦虑，不知道该如何应对\", # input\n",
    "        \"\", # output - leave this blank for generation!\n",
    "    )\n",
    "], return_tensors = \"pt\").to(\"cuda\")\n",
    "\n",
    "from transformers import TextStreamer\n",
    "text_streamer = TextStreamer(tokenizer)\n",
    "_ = model.generate(**inputs, streamer = text_streamer, max_new_tokens = 1024)"
   ]
  },
  {
   "cell_type": "markdown",
   "metadata": {},
   "source": [
    "### GGUF / llama.cpp Conversion\n",
    "To save to `GGUF` / `llama.cpp`, we support it natively now! We clone `llama.cpp` and we default save it to `q8_0`. We allow all methods like `q4_k_m`. Use `save_pretrained_gguf` for local saving and `push_to_hub_gguf` for uploading to HF.\n",
    "\n",
    "Some supported quant methods (full list on our [Wiki page](https://github.com/unslothai/unsloth/wiki#gguf-quantization-options)):\n",
    "* `q8_0` - Fast conversion. High resource use, but generally acceptable.\n",
    "* `q4_k_m` - Recommended. Uses Q6_K for half of the attention.wv and feed_forward.w2 tensors, else Q4_K.\n",
    "* `q5_k_m` - Recommended. Uses Q6_K for half of the attention.wv and feed_forward.w2 tensors, else Q5_K.\n",
    "\n",
    "[**NEW**] To finetune and auto export to Ollama, try our [Ollama notebook](https://colab.research.google.com/github/unslothai/notebooks/blob/main/nb/Llama3_(8B)-Ollama.ipynb)"
   ]
  },
  {
   "cell_type": "markdown",
   "metadata": {},
   "source": [
    "### Quantizatative and save model"
   ]
  },
  {
   "cell_type": "code",
   "execution_count": 15,
   "metadata": {
    "execution": {
     "iopub.execute_input": "2025-04-21T06:26:14.928412Z",
     "iopub.status.busy": "2025-04-21T06:26:14.927896Z",
     "iopub.status.idle": "2025-04-21T06:26:14.932419Z",
     "shell.execute_reply": "2025-04-21T06:26:14.931873Z",
     "shell.execute_reply.started": "2025-04-21T06:26:14.928393Z"
    }
   },
   "outputs": [],
   "source": [
    "# Save to q4_k_m GGUF\n",
    "if False:  model.save_pretrained_gguf(\"model\", tokenizer, quantization_method = \"q4_k_m\")\n",
    "if False: model.push_to_hub_gguf(\"hf/model\", tokenizer, quantization_method = \"q4_k_m\", token = \"\")\n",
    "\n",
    "# Save to multiple GGUF options - much faster if you want multiple!\n",
    "if False:\n",
    "    model.push_to_hub_gguf(\n",
    "        \"hf/model\", # Change hf to your username!\n",
    "        tokenizer,\n",
    "        quantization_method = [\"q4_k_m\", \"q8_0\", \"q5_k_m\",],\n",
    "        token = \"\", # Get a token at https://huggingface.co/settings/tokens\n",
    "    )"
   ]
  },
  {
   "cell_type": "code",
   "execution_count": 1,
   "metadata": {},
   "outputs": [
    {
     "name": "stdout",
     "output_type": "stream",
     "text": [
      "[NbConvertApp] Converting notebook deepseek-r1-1.5B.ipynb to script\n",
      "[NbConvertApp] Writing 13275 bytes to deepseek-r1-1.5B.py\n"
     ]
    }
   ],
   "source": [
    "!jupyter nbconvert --to script deepseek-r1-1.5B.ipynb"
   ]
  }
 ],
 "metadata": {
  "kaggle": {
   "accelerator": "nvidiaTeslaT4",
   "dataSources": [],
   "dockerImageVersionId": 31011,
   "isGpuEnabled": true,
   "isInternetEnabled": true,
   "language": "python",
   "sourceType": "notebook"
  },
  "kernelspec": {
   "display_name": "Python 3 (ipykernel)",
   "language": "python",
   "name": "python3"
  },
  "language_info": {
   "codemirror_mode": {
    "name": "ipython",
    "version": 3
   },
   "file_extension": ".py",
   "mimetype": "text/x-python",
   "name": "python",
   "nbconvert_exporter": "python",
   "pygments_lexer": "ipython3",
   "version": "3.8.18"
  }
 },
 "nbformat": 4,
 "nbformat_minor": 4
}
